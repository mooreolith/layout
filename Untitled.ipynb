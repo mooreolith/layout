{
 "cells": [
  {
   "cell_type": "markdown",
   "id": "latin-begin",
   "metadata": {},
   "source": [
    "# Layout with MetricsCollector\n",
    "\n",
    "The idea is to create a random graph, have it iterate its layout, and measure distances across the graph and summarize them. \n",
    "\n",
    "Layout.mjs"
   ]
  },
  {
   "cell_type": "code",
   "execution_count": null,
   "id": "western-expert",
   "metadata": {},
   "outputs": [],
   "source": []
  }
 ],
 "metadata": {
  "kernelspec": {
   "display_name": "JavaScript",
   "language": "javascript",
   "name": "jslab"
  },
  "language_info": {
   "file_extension": ".js",
   "mimetype": "text/javascript",
   "name": "javascript",
   "version": ""
  }
 },
 "nbformat": 4,
 "nbformat_minor": 5
}
